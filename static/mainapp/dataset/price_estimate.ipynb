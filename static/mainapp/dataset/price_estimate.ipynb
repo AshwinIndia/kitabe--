{
 "cells": [
  {
   "cell_type": "code",
   "execution_count": 4,
   "metadata": {},
   "outputs": [
    {
     "name": "stdout",
     "output_type": "stream",
     "text": [
      "      Unnamed: 0  r_index  book_id                      authors  \\\n",
      "0              0        1  2767052              Suzanne Collins   \n",
      "1              1        2        3  J.K. Rowling, Mary GrandPré   \n",
      "2              2        3    41865              Stephenie Meyer   \n",
      "3              3        4     2657                   Harper Lee   \n",
      "4              4        5     4671          F. Scott Fitzgerald   \n",
      "...          ...      ...      ...                          ...   \n",
      "9269        9269     9996  7130616                Ilona Andrews   \n",
      "9270        9270     9997   208324               Robert A. Caro   \n",
      "9271        9271     9998    77431              Patrick O'Brian   \n",
      "9272        9272     9999  8565083              Peggy Orenstein   \n",
      "9273        9273    10000     8914                  John Keegan   \n",
      "\n",
      "                                         original_title  \\\n",
      "0                                      The Hunger Games   \n",
      "1              Harry Potter and the Philosopher's Stone   \n",
      "2                                              Twilight   \n",
      "3                                 To Kill a Mockingbird   \n",
      "4                                      The Great Gatsby   \n",
      "...                                                 ...   \n",
      "9269                                         Bayou Moon   \n",
      "9270                                   Means of Ascent    \n",
      "9271                              The Mauritius Command   \n",
      "9272  Cinderella Ate My Daughter: Dispatches from th...   \n",
      "9273                                The First World War   \n",
      "\n",
      "                                              image_url  average_rating  \\\n",
      "0     https://images.gr-assets.com/books/1447303603l...            4.34   \n",
      "1     https://images.gr-assets.com/books/1474154022l...            4.44   \n",
      "2     https://images.gr-assets.com/books/1361039443l...            3.57   \n",
      "3     https://images.gr-assets.com/books/1361975680l...            4.25   \n",
      "4     https://images.gr-assets.com/books/1490528560l...            3.89   \n",
      "...                                                 ...             ...   \n",
      "9269  https://images.gr-assets.com/books/1307445460l...            4.09   \n",
      "9270  https://i.gr-assets.com/images/S/compressed.ph...            4.25   \n",
      "9271  https://images.gr-assets.com/books/1455373531l...            4.35   \n",
      "9272  https://images.gr-assets.com/books/1279214118l...            3.65   \n",
      "9273  https://images.gr-assets.com/books/1403194704l...            4.00   \n",
      "\n",
      "      ratings_count                   genre  \\\n",
      "0           4780653        fiction, fantasy   \n",
      "1           4602479        fantasy, fiction   \n",
      "2           3866839        fantasy, fiction   \n",
      "3           3198671       classics, fiction   \n",
      "4           2683664       classics, fiction   \n",
      "...             ...                     ...   \n",
      "9269          17204        fantasy, romance   \n",
      "9270          12582      biography, history   \n",
      "9271           9421        fiction, history   \n",
      "9272          11279  nonfiction, psychology   \n",
      "9273           9162     history, nonfiction   \n",
      "\n",
      "                                                   desc  Price  \n",
      "0     In a future North America, where the rulers of...    300  \n",
      "1     Rescued from the outrageous neglect of his aun...    900  \n",
      "2     With 160 million copies of the Twilight Saga s...    900  \n",
      "3     The unforgettable novel of a childhood in a sl...    400  \n",
      "4     A young man newly rich tries to recapture the ...    700  \n",
      "...                                                 ...    ...  \n",
      "9269  When her parents vanish, Cerise Mar becomes tr...    100  \n",
      "9270  Traces Johnson's life from his Texas childhood...    300  \n",
      "9271  During the Napoleonic wars, British naval capt...    100  \n",
      "9272  The acclaimed author of the groundbreaking bes...    200  \n",
      "9273  A history of the Great War chronicles the even...    100  \n",
      "\n",
      "[9274 rows x 11 columns]\n"
     ]
    }
   ],
   "source": [
    "import random\n",
    "\n",
    "# Generate random prices for the books\n",
    "df['Price'] = [random.randint(10, 100) for _ in range(len(df))]\n",
    "\n",
    "# Print the updated DataFrame\n",
    "print(df)\n"
   ]
  }
 ],
 "metadata": {
  "kernelspec": {
   "display_name": "Python 3",
   "language": "python",
   "name": "python3"
  },
  "language_info": {
   "codemirror_mode": {
    "name": "ipython",
    "version": 3
   },
   "file_extension": ".py",
   "mimetype": "text/x-python",
   "name": "python",
   "nbconvert_exporter": "python",
   "pygments_lexer": "ipython3",
   "version": "3.9.0"
  }
 },
 "nbformat": 4,
 "nbformat_minor": 2
}
